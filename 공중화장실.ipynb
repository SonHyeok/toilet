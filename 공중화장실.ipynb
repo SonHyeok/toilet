{
  "nbformat": 4,
  "nbformat_minor": 0,
  "metadata": {
    "colab": {
      "name": "공중화장실.ipynb",
      "provenance": [],
      "toc_visible": true,
      "mount_file_id": "14aod3dboewlxojUMR9UI0WNMtxT0Ueur",
      "authorship_tag": "ABX9TyOdLFV+XILiwnIxUqJzov1U",
      "include_colab_link": true
    },
    "kernelspec": {
      "name": "python3",
      "display_name": "Python 3"
    },
    "language_info": {
      "name": "python"
    }
  },
  "cells": [
    {
      "cell_type": "markdown",
      "metadata": {
        "id": "view-in-github",
        "colab_type": "text"
      },
      "source": [
        "<a href=\"https://colab.research.google.com/github/SonHyeok/toilet/blob/main/%EA%B3%B5%EC%A4%91%ED%99%94%EC%9E%A5%EC%8B%A4.ipynb\" target=\"_parent\"><img src=\"https://colab.research.google.com/assets/colab-badge.svg\" alt=\"Open In Colab\"/></a>"
      ]
    },
    {
      "cell_type": "markdown",
      "metadata": {
        "id": "vxFf5js8QpOf"
      },
      "source": [
        "# 전국 공중 화장실 분포 데이터\n"
      ]
    },
    {
      "cell_type": "markdown",
      "metadata": {
        "id": "DSwVynUqQvDF"
      },
      "source": [
        "## 라이브러리 불러오기"
      ]
    },
    {
      "cell_type": "code",
      "metadata": {
        "id": "UYQxs4VC9nvF"
      },
      "source": [
        "import pandas as pd\n",
        "import matplotlib as plt"
      ],
      "execution_count": null,
      "outputs": []
    },
    {
      "cell_type": "markdown",
      "metadata": {
        "id": "qcOzJT1BYocb"
      },
      "source": [
        "# 한글 폰트 설정"
      ]
    },
    {
      "cell_type": "code",
      "metadata": {
        "colab": {
          "base_uri": "https://localhost:8080/"
        },
        "id": "I0u4qHqcYmcT",
        "outputId": "d9d20123-4af6-4318-bd1a-f969bbd8e8c0"
      },
      "source": [
        "#한글폰트 다운로드\n",
        "!sudo apt-get install -y fonts-nanum\n",
        "!sudo fc-cache -fv\n",
        "!rm ~/.cache/matplotlib -rf\n",
        "\n",
        "#한글폰트 설정\n",
        "plt.rc('font', family='NanumBarunGothic') "
      ],
      "execution_count": null,
      "outputs": [
        {
          "output_type": "stream",
          "name": "stdout",
          "text": [
            "Reading package lists... Done\n",
            "Building dependency tree       \n",
            "Reading state information... Done\n",
            "The following NEW packages will be installed:\n",
            "  fonts-nanum\n",
            "0 upgraded, 1 newly installed, 0 to remove and 40 not upgraded.\n",
            "Need to get 9,604 kB of archives.\n",
            "After this operation, 29.5 MB of additional disk space will be used.\n",
            "Get:1 http://archive.ubuntu.com/ubuntu bionic/universe amd64 fonts-nanum all 20170925-1 [9,604 kB]\n",
            "Fetched 9,604 kB in 1s (8,370 kB/s)\n",
            "debconf: unable to initialize frontend: Dialog\n",
            "debconf: (No usable dialog-like program is installed, so the dialog based frontend cannot be used. at /usr/share/perl5/Debconf/FrontEnd/Dialog.pm line 76, <> line 1.)\n",
            "debconf: falling back to frontend: Readline\n",
            "debconf: unable to initialize frontend: Readline\n",
            "debconf: (This frontend requires a controlling tty.)\n",
            "debconf: falling back to frontend: Teletype\n",
            "dpkg-preconfigure: unable to re-open stdin: \n",
            "Selecting previously unselected package fonts-nanum.\n",
            "(Reading database ... 148492 files and directories currently installed.)\n",
            "Preparing to unpack .../fonts-nanum_20170925-1_all.deb ...\n",
            "Unpacking fonts-nanum (20170925-1) ...\n",
            "Setting up fonts-nanum (20170925-1) ...\n",
            "Processing triggers for fontconfig (2.12.6-0ubuntu2) ...\n",
            "/usr/share/fonts: caching, new cache contents: 0 fonts, 1 dirs\n",
            "/usr/share/fonts/truetype: caching, new cache contents: 0 fonts, 3 dirs\n",
            "/usr/share/fonts/truetype/humor-sans: caching, new cache contents: 1 fonts, 0 dirs\n",
            "/usr/share/fonts/truetype/liberation: caching, new cache contents: 16 fonts, 0 dirs\n",
            "/usr/share/fonts/truetype/nanum: caching, new cache contents: 10 fonts, 0 dirs\n",
            "/usr/local/share/fonts: caching, new cache contents: 0 fonts, 0 dirs\n",
            "/root/.local/share/fonts: skipping, no such directory\n",
            "/root/.fonts: skipping, no such directory\n",
            "/var/cache/fontconfig: cleaning cache directory\n",
            "/root/.cache/fontconfig: not cleaning non-existent cache directory\n",
            "/root/.fontconfig: not cleaning non-existent cache directory\n",
            "fc-cache: succeeded\n"
          ]
        }
      ]
    },
    {
      "cell_type": "markdown",
      "metadata": {
        "id": "HAlBi75JQz0Z"
      },
      "source": [
        "## 데이터 불러오기 후 확인"
      ]
    },
    {
      "cell_type": "code",
      "metadata": {
        "colab": {
          "base_uri": "https://localhost:8080/"
        },
        "id": "BpzE_Mv59yRw",
        "outputId": "271e80f0-9aca-4347-9b38-3a02050e313c"
      },
      "source": [
        "df = pd.read_csv('/content/drive/MyDrive/개인 공공데이터 분석 자료/data/전국공중화장실표준데이터.csv', encoding = 'cp949')"
      ],
      "execution_count": null,
      "outputs": [
        {
          "output_type": "stream",
          "name": "stderr",
          "text": [
            "/usr/local/lib/python3.7/dist-packages/IPython/core/interactiveshell.py:2718: DtypeWarning: Columns (9,10,17,28) have mixed types.Specify dtype option on import or set low_memory=False.\n",
            "  interactivity=interactivity, compiler=compiler, result=result)\n"
          ]
        }
      ]
    },
    {
      "cell_type": "code",
      "metadata": {
        "colab": {
          "base_uri": "https://localhost:8080/",
          "height": 904
        },
        "id": "UT5fiosV9yX-",
        "outputId": "9ab842ab-eb03-4fbc-801e-51881cd9d240"
      },
      "source": [
        "df.head(5)"
      ],
      "execution_count": null,
      "outputs": [
        {
          "output_type": "execute_result",
          "data": {
            "text/html": [
              "<div>\n",
              "<style scoped>\n",
              "    .dataframe tbody tr th:only-of-type {\n",
              "        vertical-align: middle;\n",
              "    }\n",
              "\n",
              "    .dataframe tbody tr th {\n",
              "        vertical-align: top;\n",
              "    }\n",
              "\n",
              "    .dataframe thead th {\n",
              "        text-align: right;\n",
              "    }\n",
              "</style>\n",
              "<table border=\"1\" class=\"dataframe\">\n",
              "  <thead>\n",
              "    <tr style=\"text-align: right;\">\n",
              "      <th></th>\n",
              "      <th>구분</th>\n",
              "      <th>화장실명</th>\n",
              "      <th>소재지도로명주소</th>\n",
              "      <th>소재지지번주소</th>\n",
              "      <th>남녀공용화장실여부</th>\n",
              "      <th>남성용-대변기수</th>\n",
              "      <th>남성용-소변기수</th>\n",
              "      <th>남성용-장애인용대변기수</th>\n",
              "      <th>남성용-장애인용소변기수</th>\n",
              "      <th>남성용-어린이용대변기수</th>\n",
              "      <th>남성용-어린이용소변기수</th>\n",
              "      <th>여성용-대변기수</th>\n",
              "      <th>여성용-장애인용대변기수</th>\n",
              "      <th>여성용-어린이용대변기수</th>\n",
              "      <th>관리기관명</th>\n",
              "      <th>전화번호</th>\n",
              "      <th>개방시간</th>\n",
              "      <th>설치년도</th>\n",
              "      <th>위도</th>\n",
              "      <th>경도</th>\n",
              "      <th>화장실소유구분</th>\n",
              "      <th>화장실설치장소유형</th>\n",
              "      <th>오물처리방식</th>\n",
              "      <th>비상벨설치유형</th>\n",
              "      <th>화장실입구CCTV설치유무</th>\n",
              "      <th>기저귀교환대장소</th>\n",
              "      <th>리모델링년월</th>\n",
              "      <th>데이터기준일자</th>\n",
              "      <th>제공기관코드</th>\n",
              "      <th>제공기관명</th>\n",
              "    </tr>\n",
              "  </thead>\n",
              "  <tbody>\n",
              "    <tr>\n",
              "      <th>0</th>\n",
              "      <td>공중화장실</td>\n",
              "      <td>묘산주유소</td>\n",
              "      <td>경상남도 합천군 묘산면 영서로 1748</td>\n",
              "      <td>NaN</td>\n",
              "      <td>N</td>\n",
              "      <td>2</td>\n",
              "      <td>2</td>\n",
              "      <td>0</td>\n",
              "      <td>0</td>\n",
              "      <td>0</td>\n",
              "      <td>0</td>\n",
              "      <td>2</td>\n",
              "      <td>0</td>\n",
              "      <td>0</td>\n",
              "      <td>묘산주유소</td>\n",
              "      <td>NaN</td>\n",
              "      <td>(평일)09:00~18:00+(주말)09:00~18:00+(공휴일)09:00~18:00</td>\n",
              "      <td>2095</td>\n",
              "      <td>35.643237</td>\n",
              "      <td>128.084587</td>\n",
              "      <td>NaN</td>\n",
              "      <td>NaN</td>\n",
              "      <td>NaN</td>\n",
              "      <td>NaN</td>\n",
              "      <td>NaN</td>\n",
              "      <td>NaN</td>\n",
              "      <td>NaN</td>\n",
              "      <td>2019-06-21</td>\n",
              "      <td>5480000</td>\n",
              "      <td>경상남도 합천군</td>\n",
              "    </tr>\n",
              "    <tr>\n",
              "      <th>1</th>\n",
              "      <td>공중화장실</td>\n",
              "      <td>묘산분소</td>\n",
              "      <td>경상남도 합천군 묘산면 묘산로 167-1</td>\n",
              "      <td>NaN</td>\n",
              "      <td>Y</td>\n",
              "      <td>1</td>\n",
              "      <td>0</td>\n",
              "      <td>0</td>\n",
              "      <td>0</td>\n",
              "      <td>0</td>\n",
              "      <td>0</td>\n",
              "      <td>1</td>\n",
              "      <td>0</td>\n",
              "      <td>0</td>\n",
              "      <td>합천경찰서(묘산분소)</td>\n",
              "      <td>NaN</td>\n",
              "      <td>(평일)09:00~18:00+(주말)09:00~18:00+(공휴일)09:00~18:00</td>\n",
              "      <td>2096</td>\n",
              "      <td>35.658146</td>\n",
              "      <td>128.112700</td>\n",
              "      <td>NaN</td>\n",
              "      <td>NaN</td>\n",
              "      <td>NaN</td>\n",
              "      <td>NaN</td>\n",
              "      <td>NaN</td>\n",
              "      <td>NaN</td>\n",
              "      <td>NaN</td>\n",
              "      <td>2019-06-21</td>\n",
              "      <td>5480000</td>\n",
              "      <td>경상남도 합천군</td>\n",
              "    </tr>\n",
              "    <tr>\n",
              "      <th>2</th>\n",
              "      <td>공중화장실</td>\n",
              "      <td>묘산면사무소</td>\n",
              "      <td>경상남도 합천군 묘산면 묘산로 173-1</td>\n",
              "      <td>NaN</td>\n",
              "      <td>N</td>\n",
              "      <td>1</td>\n",
              "      <td>1</td>\n",
              "      <td>1</td>\n",
              "      <td>1</td>\n",
              "      <td>0</td>\n",
              "      <td>0</td>\n",
              "      <td>2</td>\n",
              "      <td>1</td>\n",
              "      <td>0</td>\n",
              "      <td>합천군(묘산면)</td>\n",
              "      <td>NaN</td>\n",
              "      <td>(평일)09:00~18:00+(주말)09:00~18:00+(공휴일)09:00~18:00</td>\n",
              "      <td>2088</td>\n",
              "      <td>35.658440</td>\n",
              "      <td>128.113314</td>\n",
              "      <td>NaN</td>\n",
              "      <td>NaN</td>\n",
              "      <td>NaN</td>\n",
              "      <td>NaN</td>\n",
              "      <td>NaN</td>\n",
              "      <td>NaN</td>\n",
              "      <td>NaN</td>\n",
              "      <td>2019-06-21</td>\n",
              "      <td>5480000</td>\n",
              "      <td>경상남도 합천군</td>\n",
              "    </tr>\n",
              "    <tr>\n",
              "      <th>3</th>\n",
              "      <td>공중화장실</td>\n",
              "      <td>행신2동주민센터 화장실</td>\n",
              "      <td>경기도 고양시 덕양구 충경로 30 (행신동, 행신2동주민센터)</td>\n",
              "      <td>NaN</td>\n",
              "      <td>N</td>\n",
              "      <td>0</td>\n",
              "      <td>0</td>\n",
              "      <td>0</td>\n",
              "      <td>0</td>\n",
              "      <td>0</td>\n",
              "      <td>0</td>\n",
              "      <td>0</td>\n",
              "      <td>0</td>\n",
              "      <td>0</td>\n",
              "      <td>경기도 고양시 덕양구청</td>\n",
              "      <td>NaN</td>\n",
              "      <td>09:00~18:00</td>\n",
              "      <td>NaN</td>\n",
              "      <td>NaN</td>\n",
              "      <td>NaN</td>\n",
              "      <td>NaN</td>\n",
              "      <td>NaN</td>\n",
              "      <td>NaN</td>\n",
              "      <td>NaN</td>\n",
              "      <td>NaN</td>\n",
              "      <td>NaN</td>\n",
              "      <td>NaN</td>\n",
              "      <td>2019-01-02</td>\n",
              "      <td>3940000</td>\n",
              "      <td>경기도 고양시</td>\n",
              "    </tr>\n",
              "    <tr>\n",
              "      <th>4</th>\n",
              "      <td>공중화장실</td>\n",
              "      <td>원일주유소</td>\n",
              "      <td>경기도 고양시 일산동구 고양대로 1071 (식사동)</td>\n",
              "      <td>경기도 고양시 일산동구 식사동 596-13</td>\n",
              "      <td>N</td>\n",
              "      <td>1</td>\n",
              "      <td>2</td>\n",
              "      <td>0</td>\n",
              "      <td>0</td>\n",
              "      <td>0</td>\n",
              "      <td>0</td>\n",
              "      <td>1</td>\n",
              "      <td>0</td>\n",
              "      <td>0</td>\n",
              "      <td>경기도 고양시 일산동구청</td>\n",
              "      <td>NaN</td>\n",
              "      <td>09:00~18:00</td>\n",
              "      <td>NaN</td>\n",
              "      <td>37.669669</td>\n",
              "      <td>126.810136</td>\n",
              "      <td>NaN</td>\n",
              "      <td>NaN</td>\n",
              "      <td>NaN</td>\n",
              "      <td>NaN</td>\n",
              "      <td>NaN</td>\n",
              "      <td>NaN</td>\n",
              "      <td>NaN</td>\n",
              "      <td>2019-01-02</td>\n",
              "      <td>3940000</td>\n",
              "      <td>경기도 고양시</td>\n",
              "    </tr>\n",
              "  </tbody>\n",
              "</table>\n",
              "</div>"
            ],
            "text/plain": [
              "      구분          화장실명  ...   제공기관코드     제공기관명\n",
              "0  공중화장실         묘산주유소  ...  5480000  경상남도 합천군\n",
              "1  공중화장실          묘산분소  ...  5480000  경상남도 합천군\n",
              "2  공중화장실        묘산면사무소  ...  5480000  경상남도 합천군\n",
              "3  공중화장실  행신2동주민센터 화장실  ...  3940000   경기도 고양시\n",
              "4  공중화장실         원일주유소  ...  3940000   경기도 고양시\n",
              "\n",
              "[5 rows x 30 columns]"
            ]
          },
          "metadata": {},
          "execution_count": 57
        }
      ]
    },
    {
      "cell_type": "code",
      "metadata": {
        "colab": {
          "base_uri": "https://localhost:8080/",
          "height": 733
        },
        "id": "6lsLnhI69yeX",
        "outputId": "bdcaf6d6-8f2b-4c16-9c5b-05354ad4f498"
      },
      "source": [
        "df.tail(5)"
      ],
      "execution_count": null,
      "outputs": [
        {
          "output_type": "execute_result",
          "data": {
            "text/html": [
              "<div>\n",
              "<style scoped>\n",
              "    .dataframe tbody tr th:only-of-type {\n",
              "        vertical-align: middle;\n",
              "    }\n",
              "\n",
              "    .dataframe tbody tr th {\n",
              "        vertical-align: top;\n",
              "    }\n",
              "\n",
              "    .dataframe thead th {\n",
              "        text-align: right;\n",
              "    }\n",
              "</style>\n",
              "<table border=\"1\" class=\"dataframe\">\n",
              "  <thead>\n",
              "    <tr style=\"text-align: right;\">\n",
              "      <th></th>\n",
              "      <th>구분</th>\n",
              "      <th>화장실명</th>\n",
              "      <th>소재지도로명주소</th>\n",
              "      <th>소재지지번주소</th>\n",
              "      <th>남녀공용화장실여부</th>\n",
              "      <th>남성용-대변기수</th>\n",
              "      <th>남성용-소변기수</th>\n",
              "      <th>남성용-장애인용대변기수</th>\n",
              "      <th>남성용-장애인용소변기수</th>\n",
              "      <th>남성용-어린이용대변기수</th>\n",
              "      <th>남성용-어린이용소변기수</th>\n",
              "      <th>여성용-대변기수</th>\n",
              "      <th>여성용-장애인용대변기수</th>\n",
              "      <th>여성용-어린이용대변기수</th>\n",
              "      <th>관리기관명</th>\n",
              "      <th>전화번호</th>\n",
              "      <th>개방시간</th>\n",
              "      <th>설치년도</th>\n",
              "      <th>위도</th>\n",
              "      <th>경도</th>\n",
              "      <th>화장실소유구분</th>\n",
              "      <th>화장실설치장소유형</th>\n",
              "      <th>오물처리방식</th>\n",
              "      <th>비상벨설치유형</th>\n",
              "      <th>화장실입구CCTV설치유무</th>\n",
              "      <th>기저귀교환대장소</th>\n",
              "      <th>리모델링년월</th>\n",
              "      <th>데이터기준일자</th>\n",
              "      <th>제공기관코드</th>\n",
              "      <th>제공기관명</th>\n",
              "    </tr>\n",
              "  </thead>\n",
              "  <tbody>\n",
              "    <tr>\n",
              "      <th>35669</th>\n",
              "      <td>공중화장실</td>\n",
              "      <td>삼희빌딩</td>\n",
              "      <td>대구광역시 중구 달구벌대로 2156</td>\n",
              "      <td>대구광역시 중구 봉산동 165-7</td>\n",
              "      <td>N</td>\n",
              "      <td>20</td>\n",
              "      <td>30</td>\n",
              "      <td>1</td>\n",
              "      <td>0</td>\n",
              "      <td>0</td>\n",
              "      <td>0</td>\n",
              "      <td>27</td>\n",
              "      <td>1</td>\n",
              "      <td>0</td>\n",
              "      <td>개인</td>\n",
              "      <td>NaN</td>\n",
              "      <td>06:00~21:30</td>\n",
              "      <td>NaN</td>\n",
              "      <td>35.863682</td>\n",
              "      <td>128.598878</td>\n",
              "      <td>NaN</td>\n",
              "      <td>NaN</td>\n",
              "      <td>NaN</td>\n",
              "      <td>NaN</td>\n",
              "      <td>NaN</td>\n",
              "      <td>NaN</td>\n",
              "      <td>NaN</td>\n",
              "      <td>2019-06-26</td>\n",
              "      <td>6270000</td>\n",
              "      <td>대구광역시</td>\n",
              "    </tr>\n",
              "    <tr>\n",
              "      <th>35670</th>\n",
              "      <td>공중화장실</td>\n",
              "      <td>상도빌딩</td>\n",
              "      <td>대구광역시 중구 태평로 204</td>\n",
              "      <td>대구광역시 중구 태평로1가 21-5</td>\n",
              "      <td>Y</td>\n",
              "      <td>11</td>\n",
              "      <td>5</td>\n",
              "      <td>0</td>\n",
              "      <td>0</td>\n",
              "      <td>0</td>\n",
              "      <td>0</td>\n",
              "      <td>0</td>\n",
              "      <td>0</td>\n",
              "      <td>0</td>\n",
              "      <td>개인</td>\n",
              "      <td>NaN</td>\n",
              "      <td>09:00~18:00</td>\n",
              "      <td>NaN</td>\n",
              "      <td>35.873799</td>\n",
              "      <td>128.599857</td>\n",
              "      <td>NaN</td>\n",
              "      <td>NaN</td>\n",
              "      <td>NaN</td>\n",
              "      <td>NaN</td>\n",
              "      <td>NaN</td>\n",
              "      <td>NaN</td>\n",
              "      <td>NaN</td>\n",
              "      <td>2019-06-26</td>\n",
              "      <td>6270000</td>\n",
              "      <td>대구광역시</td>\n",
              "    </tr>\n",
              "    <tr>\n",
              "      <th>35671</th>\n",
              "      <td>공중화장실</td>\n",
              "      <td>서남빌딩</td>\n",
              "      <td>대구광역시 중구 국채보상로 458</td>\n",
              "      <td>대구광역시 중구 대신동 115-5</td>\n",
              "      <td>N</td>\n",
              "      <td>0</td>\n",
              "      <td>1</td>\n",
              "      <td>1</td>\n",
              "      <td>0</td>\n",
              "      <td>0</td>\n",
              "      <td>0</td>\n",
              "      <td>0</td>\n",
              "      <td>1</td>\n",
              "      <td>0</td>\n",
              "      <td>개인</td>\n",
              "      <td>NaN</td>\n",
              "      <td>08:00~19:00/첫째,셋째 일요일 휴무</td>\n",
              "      <td>NaN</td>\n",
              "      <td>35.870269</td>\n",
              "      <td>128.580906</td>\n",
              "      <td>NaN</td>\n",
              "      <td>NaN</td>\n",
              "      <td>NaN</td>\n",
              "      <td>NaN</td>\n",
              "      <td>NaN</td>\n",
              "      <td>NaN</td>\n",
              "      <td>NaN</td>\n",
              "      <td>2019-06-26</td>\n",
              "      <td>6270000</td>\n",
              "      <td>대구광역시</td>\n",
              "    </tr>\n",
              "    <tr>\n",
              "      <th>35672</th>\n",
              "      <td>개방화장실</td>\n",
              "      <td>서문로119안전센터</td>\n",
              "      <td>대구광역시 중구 경상감영길 45</td>\n",
              "      <td>대구광역시 중구 서문로1가 1-6</td>\n",
              "      <td>Y</td>\n",
              "      <td>1</td>\n",
              "      <td>2</td>\n",
              "      <td>1</td>\n",
              "      <td>0</td>\n",
              "      <td>0</td>\n",
              "      <td>0</td>\n",
              "      <td>0</td>\n",
              "      <td>0</td>\n",
              "      <td>0</td>\n",
              "      <td>서문로119안전센터</td>\n",
              "      <td>NaN</td>\n",
              "      <td>24시간</td>\n",
              "      <td>NaN</td>\n",
              "      <td>35.871576</td>\n",
              "      <td>128.589985</td>\n",
              "      <td>NaN</td>\n",
              "      <td>NaN</td>\n",
              "      <td>NaN</td>\n",
              "      <td>NaN</td>\n",
              "      <td>NaN</td>\n",
              "      <td>NaN</td>\n",
              "      <td>NaN</td>\n",
              "      <td>2019-06-26</td>\n",
              "      <td>6270000</td>\n",
              "      <td>대구광역시</td>\n",
              "    </tr>\n",
              "    <tr>\n",
              "      <th>35673</th>\n",
              "      <td>개방화장실</td>\n",
              "      <td>서문시장 1지구</td>\n",
              "      <td>대구광역시 중구 큰장로28길 10</td>\n",
              "      <td>대구광역시 중구 대신동 115-379</td>\n",
              "      <td>N</td>\n",
              "      <td>3</td>\n",
              "      <td>4</td>\n",
              "      <td>0</td>\n",
              "      <td>0</td>\n",
              "      <td>0</td>\n",
              "      <td>0</td>\n",
              "      <td>6</td>\n",
              "      <td>0</td>\n",
              "      <td>0</td>\n",
              "      <td>서문시장1지구 1층상인회</td>\n",
              "      <td>NaN</td>\n",
              "      <td>09:00~18:30/휴무일 제외</td>\n",
              "      <td>NaN</td>\n",
              "      <td>35.869393</td>\n",
              "      <td>128.579824</td>\n",
              "      <td>NaN</td>\n",
              "      <td>NaN</td>\n",
              "      <td>NaN</td>\n",
              "      <td>NaN</td>\n",
              "      <td>NaN</td>\n",
              "      <td>NaN</td>\n",
              "      <td>NaN</td>\n",
              "      <td>2019-06-26</td>\n",
              "      <td>6270000</td>\n",
              "      <td>대구광역시</td>\n",
              "    </tr>\n",
              "  </tbody>\n",
              "</table>\n",
              "</div>"
            ],
            "text/plain": [
              "          구분        화장실명             소재지도로명주소  ...     데이터기준일자   제공기관코드  제공기관명\n",
              "35669  공중화장실        삼희빌딩  대구광역시 중구 달구벌대로 2156  ...  2019-06-26  6270000  대구광역시\n",
              "35670  공중화장실        상도빌딩     대구광역시 중구 태평로 204  ...  2019-06-26  6270000  대구광역시\n",
              "35671  공중화장실        서남빌딩   대구광역시 중구 국채보상로 458  ...  2019-06-26  6270000  대구광역시\n",
              "35672  개방화장실  서문로119안전센터    대구광역시 중구 경상감영길 45  ...  2019-06-26  6270000  대구광역시\n",
              "35673  개방화장실    서문시장 1지구   대구광역시 중구 큰장로28길 10  ...  2019-06-26  6270000  대구광역시\n",
              "\n",
              "[5 rows x 30 columns]"
            ]
          },
          "metadata": {},
          "execution_count": 58
        }
      ]
    },
    {
      "cell_type": "markdown",
      "metadata": {
        "id": "JIA8tyQeQmrk"
      },
      "source": [
        "## 데이터 결측치 확인"
      ]
    },
    {
      "cell_type": "code",
      "metadata": {
        "colab": {
          "base_uri": "https://localhost:8080/"
        },
        "id": "yyoN04XWQeQT",
        "outputId": "d727b756-ce7e-4365-829d-44207be2a7c4"
      },
      "source": [
        "df.isnull().sum()"
      ],
      "execution_count": null,
      "outputs": [
        {
          "output_type": "execute_result",
          "data": {
            "text/plain": [
              "구분                   0\n",
              "화장실명                 0\n",
              "소재지도로명주소          7219\n",
              "소재지지번주소           7920\n",
              "남녀공용화장실여부            0\n",
              "남성용-대변기수             0\n",
              "남성용-소변기수             0\n",
              "남성용-장애인용대변기수         0\n",
              "남성용-장애인용소변기수         0\n",
              "남성용-어린이용대변기수         0\n",
              "남성용-어린이용소변기수         0\n",
              "여성용-대변기수             0\n",
              "여성용-장애인용대변기수         0\n",
              "여성용-어린이용대변기수         0\n",
              "관리기관명                0\n",
              "전화번호              8537\n",
              "개방시간                 0\n",
              "설치년도             21739\n",
              "위도                7534\n",
              "경도                7532\n",
              "화장실소유구분          35674\n",
              "화장실설치장소유형        35674\n",
              "오물처리방식           35674\n",
              "비상벨설치유형          35674\n",
              "화장실입구CCTV설치유무    35674\n",
              "기저귀교환대장소         35674\n",
              "리모델링년월           35674\n",
              "데이터기준일자              0\n",
              "제공기관코드               0\n",
              "제공기관명                0\n",
              "dtype: int64"
            ]
          },
          "metadata": {},
          "execution_count": 59
        }
      ]
    },
    {
      "cell_type": "code",
      "metadata": {
        "id": "UQAyOqpE9yiw"
      },
      "source": [
        "df['소재지도로명주소'] = df['소재지도로명주소'].fillna(df['소재지지번주소'])"
      ],
      "execution_count": null,
      "outputs": []
    },
    {
      "cell_type": "code",
      "metadata": {
        "colab": {
          "base_uri": "https://localhost:8080/"
        },
        "id": "mP-LnVv89ypA",
        "outputId": "dee2e23b-55e8-4f0e-c8e9-a51b0f1f5965"
      },
      "source": [
        "df['소재지도로명주소'].isnull().sum()"
      ],
      "execution_count": null,
      "outputs": [
        {
          "output_type": "execute_result",
          "data": {
            "text/plain": [
              "0"
            ]
          },
          "metadata": {},
          "execution_count": 61
        }
      ]
    },
    {
      "cell_type": "markdown",
      "metadata": {
        "id": "A609DmK_YKQi"
      },
      "source": [
        "## 사용할 컬럼으로 데이터 프레임 재구성"
      ]
    },
    {
      "cell_type": "code",
      "metadata": {
        "id": "EQFTz6sgPsvu"
      },
      "source": [
        "columns = ['구분' , '화장실명' , '남녀공용화장실여부' , '개방시간' , '관리기관명' , '위도' , '경도']"
      ],
      "execution_count": null,
      "outputs": []
    },
    {
      "cell_type": "code",
      "metadata": {
        "id": "oIVafXLmP98W"
      },
      "source": [
        "df = df[columns].copy()"
      ],
      "execution_count": null,
      "outputs": []
    },
    {
      "cell_type": "code",
      "metadata": {
        "colab": {
          "base_uri": "https://localhost:8080/",
          "height": 420
        },
        "id": "li2O7bdVPs0e",
        "outputId": "6c65df18-03a3-433e-b90d-0bf2ff95507a"
      },
      "source": [
        "df"
      ],
      "execution_count": null,
      "outputs": [
        {
          "output_type": "execute_result",
          "data": {
            "text/html": [
              "<div>\n",
              "<style scoped>\n",
              "    .dataframe tbody tr th:only-of-type {\n",
              "        vertical-align: middle;\n",
              "    }\n",
              "\n",
              "    .dataframe tbody tr th {\n",
              "        vertical-align: top;\n",
              "    }\n",
              "\n",
              "    .dataframe thead th {\n",
              "        text-align: right;\n",
              "    }\n",
              "</style>\n",
              "<table border=\"1\" class=\"dataframe\">\n",
              "  <thead>\n",
              "    <tr style=\"text-align: right;\">\n",
              "      <th></th>\n",
              "      <th>구분</th>\n",
              "      <th>화장실명</th>\n",
              "      <th>남녀공용화장실여부</th>\n",
              "      <th>개방시간</th>\n",
              "      <th>관리기관명</th>\n",
              "      <th>위도</th>\n",
              "      <th>경도</th>\n",
              "    </tr>\n",
              "  </thead>\n",
              "  <tbody>\n",
              "    <tr>\n",
              "      <th>0</th>\n",
              "      <td>공중화장실</td>\n",
              "      <td>묘산주유소</td>\n",
              "      <td>N</td>\n",
              "      <td>(평일)09:00~18:00+(주말)09:00~18:00+(공휴일)09:00~18:00</td>\n",
              "      <td>묘산주유소</td>\n",
              "      <td>35.643237</td>\n",
              "      <td>128.084587</td>\n",
              "    </tr>\n",
              "    <tr>\n",
              "      <th>1</th>\n",
              "      <td>공중화장실</td>\n",
              "      <td>묘산분소</td>\n",
              "      <td>Y</td>\n",
              "      <td>(평일)09:00~18:00+(주말)09:00~18:00+(공휴일)09:00~18:00</td>\n",
              "      <td>합천경찰서(묘산분소)</td>\n",
              "      <td>35.658146</td>\n",
              "      <td>128.112700</td>\n",
              "    </tr>\n",
              "    <tr>\n",
              "      <th>2</th>\n",
              "      <td>공중화장실</td>\n",
              "      <td>묘산면사무소</td>\n",
              "      <td>N</td>\n",
              "      <td>(평일)09:00~18:00+(주말)09:00~18:00+(공휴일)09:00~18:00</td>\n",
              "      <td>합천군(묘산면)</td>\n",
              "      <td>35.658440</td>\n",
              "      <td>128.113314</td>\n",
              "    </tr>\n",
              "    <tr>\n",
              "      <th>3</th>\n",
              "      <td>공중화장실</td>\n",
              "      <td>행신2동주민센터 화장실</td>\n",
              "      <td>N</td>\n",
              "      <td>09:00~18:00</td>\n",
              "      <td>경기도 고양시 덕양구청</td>\n",
              "      <td>NaN</td>\n",
              "      <td>NaN</td>\n",
              "    </tr>\n",
              "    <tr>\n",
              "      <th>4</th>\n",
              "      <td>공중화장실</td>\n",
              "      <td>원일주유소</td>\n",
              "      <td>N</td>\n",
              "      <td>09:00~18:00</td>\n",
              "      <td>경기도 고양시 일산동구청</td>\n",
              "      <td>37.669669</td>\n",
              "      <td>126.810136</td>\n",
              "    </tr>\n",
              "    <tr>\n",
              "      <th>...</th>\n",
              "      <td>...</td>\n",
              "      <td>...</td>\n",
              "      <td>...</td>\n",
              "      <td>...</td>\n",
              "      <td>...</td>\n",
              "      <td>...</td>\n",
              "      <td>...</td>\n",
              "    </tr>\n",
              "    <tr>\n",
              "      <th>35669</th>\n",
              "      <td>공중화장실</td>\n",
              "      <td>삼희빌딩</td>\n",
              "      <td>N</td>\n",
              "      <td>06:00~21:30</td>\n",
              "      <td>개인</td>\n",
              "      <td>35.863682</td>\n",
              "      <td>128.598878</td>\n",
              "    </tr>\n",
              "    <tr>\n",
              "      <th>35670</th>\n",
              "      <td>공중화장실</td>\n",
              "      <td>상도빌딩</td>\n",
              "      <td>Y</td>\n",
              "      <td>09:00~18:00</td>\n",
              "      <td>개인</td>\n",
              "      <td>35.873799</td>\n",
              "      <td>128.599857</td>\n",
              "    </tr>\n",
              "    <tr>\n",
              "      <th>35671</th>\n",
              "      <td>공중화장실</td>\n",
              "      <td>서남빌딩</td>\n",
              "      <td>N</td>\n",
              "      <td>08:00~19:00/첫째,셋째 일요일 휴무</td>\n",
              "      <td>개인</td>\n",
              "      <td>35.870269</td>\n",
              "      <td>128.580906</td>\n",
              "    </tr>\n",
              "    <tr>\n",
              "      <th>35672</th>\n",
              "      <td>개방화장실</td>\n",
              "      <td>서문로119안전센터</td>\n",
              "      <td>Y</td>\n",
              "      <td>24시간</td>\n",
              "      <td>서문로119안전센터</td>\n",
              "      <td>35.871576</td>\n",
              "      <td>128.589985</td>\n",
              "    </tr>\n",
              "    <tr>\n",
              "      <th>35673</th>\n",
              "      <td>개방화장실</td>\n",
              "      <td>서문시장 1지구</td>\n",
              "      <td>N</td>\n",
              "      <td>09:00~18:30/휴무일 제외</td>\n",
              "      <td>서문시장1지구 1층상인회</td>\n",
              "      <td>35.869393</td>\n",
              "      <td>128.579824</td>\n",
              "    </tr>\n",
              "  </tbody>\n",
              "</table>\n",
              "<p>35674 rows × 7 columns</p>\n",
              "</div>"
            ],
            "text/plain": [
              "          구분          화장실명 남녀공용화장실여부  ...          관리기관명         위도          경도\n",
              "0      공중화장실         묘산주유소         N  ...          묘산주유소  35.643237  128.084587\n",
              "1      공중화장실          묘산분소         Y  ...    합천경찰서(묘산분소)  35.658146  128.112700\n",
              "2      공중화장실        묘산면사무소         N  ...       합천군(묘산면)  35.658440  128.113314\n",
              "3      공중화장실  행신2동주민센터 화장실         N  ...   경기도 고양시 덕양구청        NaN         NaN\n",
              "4      공중화장실         원일주유소         N  ...  경기도 고양시 일산동구청  37.669669  126.810136\n",
              "...      ...           ...       ...  ...            ...        ...         ...\n",
              "35669  공중화장실          삼희빌딩         N  ...             개인  35.863682  128.598878\n",
              "35670  공중화장실          상도빌딩         Y  ...             개인  35.873799  128.599857\n",
              "35671  공중화장실          서남빌딩         N  ...             개인  35.870269  128.580906\n",
              "35672  개방화장실    서문로119안전센터         Y  ...     서문로119안전센터  35.871576  128.589985\n",
              "35673  개방화장실      서문시장 1지구         N  ...  서문시장1지구 1층상인회  35.869393  128.579824\n",
              "\n",
              "[35674 rows x 7 columns]"
            ]
          },
          "metadata": {},
          "execution_count": 64
        }
      ]
    },
    {
      "cell_type": "code",
      "metadata": {
        "colab": {
          "base_uri": "https://localhost:8080/"
        },
        "id": "ROylttdWPs4L",
        "outputId": "894d6116-5fd9-4cce-8194-96bc2cf4ddd2"
      },
      "source": [
        "df['구분'].value_counts()"
      ],
      "execution_count": null,
      "outputs": [
        {
          "output_type": "execute_result",
          "data": {
            "text/plain": [
              "공중화장실    25828\n",
              "개방화장실     7518\n",
              "간이화장실     1687\n",
              "이동화장실      641\n",
              "Name: 구분, dtype: int64"
            ]
          },
          "metadata": {},
          "execution_count": 65
        }
      ]
    },
    {
      "cell_type": "code",
      "metadata": {
        "id": "qWt-3fWmPs7U"
      },
      "source": [
        ""
      ],
      "execution_count": null,
      "outputs": []
    },
    {
      "cell_type": "code",
      "metadata": {
        "id": "CIKO9MhyPs-a"
      },
      "source": [
        ""
      ],
      "execution_count": null,
      "outputs": []
    },
    {
      "cell_type": "code",
      "metadata": {
        "id": "Zi-Apv-7PtBT"
      },
      "source": [
        ""
      ],
      "execution_count": null,
      "outputs": []
    },
    {
      "cell_type": "code",
      "metadata": {
        "id": "qfPLMdXu9yuD"
      },
      "source": [
        ""
      ],
      "execution_count": null,
      "outputs": []
    }
  ]
}