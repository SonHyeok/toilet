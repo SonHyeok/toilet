{
  "nbformat": 4,
  "nbformat_minor": 0,
  "metadata": {
    "colab": {
      "name": "공중화장실.ipynb",
      "provenance": [],
      "collapsed_sections": [],
      "toc_visible": true,
      "mount_file_id": "14aod3dboewlxojUMR9UI0WNMtxT0Ueur",
      "authorship_tag": "ABX9TyN6/LFW0aED2PIHCeDl2ZwP",
      "include_colab_link": true
    },
    "kernelspec": {
      "name": "python3",
      "display_name": "Python 3"
    },
    "language_info": {
      "name": "python"
    }
  },
  "cells": [
    {
      "cell_type": "markdown",
      "metadata": {
        "id": "view-in-github",
        "colab_type": "text"
      },
      "source": [
        "<a href=\"https://colab.research.google.com/github/SonHyeok/toilet/blob/main/%EA%B3%B5%EC%A4%91%ED%99%94%EC%9E%A5%EC%8B%A4.ipynb\" target=\"_parent\"><img src=\"https://colab.research.google.com/assets/colab-badge.svg\" alt=\"Open In Colab\"/></a>"
      ]
    },
    {
      "cell_type": "markdown",
      "metadata": {
        "id": "vxFf5js8QpOf"
      },
      "source": [
        "# 전국 공중 화장실 분포 데이터\n"
      ]
    },
    {
      "cell_type": "markdown",
      "metadata": {
        "id": "DSwVynUqQvDF"
      },
      "source": [
        "# 1. 라이브러리 불러오기"
      ]
    },
    {
      "cell_type": "code",
      "metadata": {
        "id": "UYQxs4VC9nvF"
      },
      "source": [
        "import pandas as pd\n",
        "import matplotlib as plt\n",
        "import seaborn as sns"
      ],
      "execution_count": 1,
      "outputs": []
    },
    {
      "cell_type": "markdown",
      "metadata": {
        "id": "qcOzJT1BYocb"
      },
      "source": [
        "## 한글 폰트 설정"
      ]
    },
    {
      "cell_type": "code",
      "metadata": {
        "id": "I0u4qHqcYmcT",
        "colab": {
          "base_uri": "https://localhost:8080/"
        },
        "outputId": "db7ef35a-00aa-49cc-d8a2-21cdcd7fa1f5"
      },
      "source": [
        "#한글폰트 다운로드\n",
        "!sudo apt-get install -y fonts-nanum\n",
        "!sudo fc-cache -fv\n",
        "!rm ~/.cache/matplotlib -rf\n",
        "\n",
        "#한글폰트 설정\n",
        "plt.rc('font', family='NanumBarunGothic') "
      ],
      "execution_count": 2,
      "outputs": [
        {
          "output_type": "stream",
          "name": "stdout",
          "text": [
            "Reading package lists... Done\n",
            "Building dependency tree       \n",
            "Reading state information... Done\n",
            "fonts-nanum is already the newest version (20170925-1).\n",
            "0 upgraded, 0 newly installed, 0 to remove and 40 not upgraded.\n",
            "/usr/share/fonts: caching, new cache contents: 0 fonts, 1 dirs\n",
            "/usr/share/fonts/truetype: caching, new cache contents: 0 fonts, 3 dirs\n",
            "/usr/share/fonts/truetype/humor-sans: caching, new cache contents: 1 fonts, 0 dirs\n",
            "/usr/share/fonts/truetype/liberation: caching, new cache contents: 16 fonts, 0 dirs\n",
            "/usr/share/fonts/truetype/nanum: caching, new cache contents: 10 fonts, 0 dirs\n",
            "/usr/local/share/fonts: caching, new cache contents: 0 fonts, 0 dirs\n",
            "/root/.local/share/fonts: skipping, no such directory\n",
            "/root/.fonts: skipping, no such directory\n",
            "/var/cache/fontconfig: cleaning cache directory\n",
            "/root/.cache/fontconfig: not cleaning non-existent cache directory\n",
            "/root/.fontconfig: not cleaning non-existent cache directory\n",
            "fc-cache: succeeded\n"
          ]
        }
      ]
    },
    {
      "cell_type": "markdown",
      "metadata": {
        "id": "HAlBi75JQz0Z"
      },
      "source": [
        "# 2.데이터 불러오기, 데이터 정제"
      ]
    },
    {
      "cell_type": "code",
      "metadata": {
        "colab": {
          "base_uri": "https://localhost:8080/"
        },
        "id": "BpzE_Mv59yRw",
        "outputId": "746678dd-f68d-41ca-c18a-942e17abface"
      },
      "source": [
        "df = pd.read_csv('/content/drive/MyDrive/개인 공공데이터 분석 자료/data/전국공중화장실표준데이터.csv', encoding = 'cp949')"
      ],
      "execution_count": 3,
      "outputs": [
        {
          "output_type": "stream",
          "name": "stderr",
          "text": [
            "/usr/local/lib/python3.7/dist-packages/IPython/core/interactiveshell.py:2718: DtypeWarning: Columns (9,10,17,28) have mixed types.Specify dtype option on import or set low_memory=False.\n",
            "  interactivity=interactivity, compiler=compiler, result=result)\n"
          ]
        }
      ]
    },
    {
      "cell_type": "code",
      "metadata": {
        "colab": {
          "base_uri": "https://localhost:8080/"
        },
        "id": "l0rFN9-er0hi",
        "outputId": "2669764e-9c86-4a30-891a-0c538e786b03"
      },
      "source": [
        "df.info()"
      ],
      "execution_count": 4,
      "outputs": [
        {
          "output_type": "stream",
          "name": "stdout",
          "text": [
            "<class 'pandas.core.frame.DataFrame'>\n",
            "RangeIndex: 35674 entries, 0 to 35673\n",
            "Data columns (total 30 columns):\n",
            " #   Column         Non-Null Count  Dtype  \n",
            "---  ------         --------------  -----  \n",
            " 0   구분             35674 non-null  object \n",
            " 1   화장실명           35674 non-null  object \n",
            " 2   소재지도로명주소       28455 non-null  object \n",
            " 3   소재지지번주소        27754 non-null  object \n",
            " 4   남녀공용화장실여부      35674 non-null  object \n",
            " 5   남성용-대변기수       35674 non-null  int64  \n",
            " 6   남성용-소변기수       35674 non-null  int64  \n",
            " 7   남성용-장애인용대변기수   35674 non-null  int64  \n",
            " 8   남성용-장애인용소변기수   35674 non-null  int64  \n",
            " 9   남성용-어린이용대변기수   35674 non-null  object \n",
            " 10  남성용-어린이용소변기수   35674 non-null  object \n",
            " 11  여성용-대변기수       35674 non-null  int64  \n",
            " 12  여성용-장애인용대변기수   35674 non-null  int64  \n",
            " 13  여성용-어린이용대변기수   35674 non-null  int64  \n",
            " 14  관리기관명          35674 non-null  object \n",
            " 15  전화번호           27137 non-null  object \n",
            " 16  개방시간           35674 non-null  object \n",
            " 17  설치년도           13935 non-null  object \n",
            " 18  위도             28140 non-null  float64\n",
            " 19  경도             28142 non-null  float64\n",
            " 20  화장실소유구분        0 non-null      float64\n",
            " 21  화장실설치장소유형      0 non-null      float64\n",
            " 22  오물처리방식         0 non-null      float64\n",
            " 23  비상벨설치유형        0 non-null      float64\n",
            " 24  화장실입구CCTV설치유무  0 non-null      float64\n",
            " 25  기저귀교환대장소       0 non-null      float64\n",
            " 26  리모델링년월         0 non-null      float64\n",
            " 27  데이터기준일자        35674 non-null  object \n",
            " 28  제공기관코드         35674 non-null  object \n",
            " 29  제공기관명          35674 non-null  object \n",
            "dtypes: float64(9), int64(7), object(14)\n",
            "memory usage: 8.2+ MB\n"
          ]
        }
      ]
    },
    {
      "cell_type": "code",
      "metadata": {
        "colab": {
          "base_uri": "https://localhost:8080/",
          "height": 904
        },
        "id": "UT5fiosV9yX-",
        "outputId": "20442098-1b12-44a9-f6be-b6a97945977e"
      },
      "source": [
        "df.head(5)"
      ],
      "execution_count": 5,
      "outputs": [
        {
          "output_type": "execute_result",
          "data": {
            "text/html": [
              "<div>\n",
              "<style scoped>\n",
              "    .dataframe tbody tr th:only-of-type {\n",
              "        vertical-align: middle;\n",
              "    }\n",
              "\n",
              "    .dataframe tbody tr th {\n",
              "        vertical-align: top;\n",
              "    }\n",
              "\n",
              "    .dataframe thead th {\n",
              "        text-align: right;\n",
              "    }\n",
              "</style>\n",
              "<table border=\"1\" class=\"dataframe\">\n",
              "  <thead>\n",
              "    <tr style=\"text-align: right;\">\n",
              "      <th></th>\n",
              "      <th>구분</th>\n",
              "      <th>화장실명</th>\n",
              "      <th>소재지도로명주소</th>\n",
              "      <th>소재지지번주소</th>\n",
              "      <th>남녀공용화장실여부</th>\n",
              "      <th>남성용-대변기수</th>\n",
              "      <th>남성용-소변기수</th>\n",
              "      <th>남성용-장애인용대변기수</th>\n",
              "      <th>남성용-장애인용소변기수</th>\n",
              "      <th>남성용-어린이용대변기수</th>\n",
              "      <th>남성용-어린이용소변기수</th>\n",
              "      <th>여성용-대변기수</th>\n",
              "      <th>여성용-장애인용대변기수</th>\n",
              "      <th>여성용-어린이용대변기수</th>\n",
              "      <th>관리기관명</th>\n",
              "      <th>전화번호</th>\n",
              "      <th>개방시간</th>\n",
              "      <th>설치년도</th>\n",
              "      <th>위도</th>\n",
              "      <th>경도</th>\n",
              "      <th>화장실소유구분</th>\n",
              "      <th>화장실설치장소유형</th>\n",
              "      <th>오물처리방식</th>\n",
              "      <th>비상벨설치유형</th>\n",
              "      <th>화장실입구CCTV설치유무</th>\n",
              "      <th>기저귀교환대장소</th>\n",
              "      <th>리모델링년월</th>\n",
              "      <th>데이터기준일자</th>\n",
              "      <th>제공기관코드</th>\n",
              "      <th>제공기관명</th>\n",
              "    </tr>\n",
              "  </thead>\n",
              "  <tbody>\n",
              "    <tr>\n",
              "      <th>0</th>\n",
              "      <td>공중화장실</td>\n",
              "      <td>묘산주유소</td>\n",
              "      <td>경상남도 합천군 묘산면 영서로 1748</td>\n",
              "      <td>NaN</td>\n",
              "      <td>N</td>\n",
              "      <td>2</td>\n",
              "      <td>2</td>\n",
              "      <td>0</td>\n",
              "      <td>0</td>\n",
              "      <td>0</td>\n",
              "      <td>0</td>\n",
              "      <td>2</td>\n",
              "      <td>0</td>\n",
              "      <td>0</td>\n",
              "      <td>묘산주유소</td>\n",
              "      <td>NaN</td>\n",
              "      <td>(평일)09:00~18:00+(주말)09:00~18:00+(공휴일)09:00~18:00</td>\n",
              "      <td>2095</td>\n",
              "      <td>35.643237</td>\n",
              "      <td>128.084587</td>\n",
              "      <td>NaN</td>\n",
              "      <td>NaN</td>\n",
              "      <td>NaN</td>\n",
              "      <td>NaN</td>\n",
              "      <td>NaN</td>\n",
              "      <td>NaN</td>\n",
              "      <td>NaN</td>\n",
              "      <td>2019-06-21</td>\n",
              "      <td>5480000</td>\n",
              "      <td>경상남도 합천군</td>\n",
              "    </tr>\n",
              "    <tr>\n",
              "      <th>1</th>\n",
              "      <td>공중화장실</td>\n",
              "      <td>묘산분소</td>\n",
              "      <td>경상남도 합천군 묘산면 묘산로 167-1</td>\n",
              "      <td>NaN</td>\n",
              "      <td>Y</td>\n",
              "      <td>1</td>\n",
              "      <td>0</td>\n",
              "      <td>0</td>\n",
              "      <td>0</td>\n",
              "      <td>0</td>\n",
              "      <td>0</td>\n",
              "      <td>1</td>\n",
              "      <td>0</td>\n",
              "      <td>0</td>\n",
              "      <td>합천경찰서(묘산분소)</td>\n",
              "      <td>NaN</td>\n",
              "      <td>(평일)09:00~18:00+(주말)09:00~18:00+(공휴일)09:00~18:00</td>\n",
              "      <td>2096</td>\n",
              "      <td>35.658146</td>\n",
              "      <td>128.112700</td>\n",
              "      <td>NaN</td>\n",
              "      <td>NaN</td>\n",
              "      <td>NaN</td>\n",
              "      <td>NaN</td>\n",
              "      <td>NaN</td>\n",
              "      <td>NaN</td>\n",
              "      <td>NaN</td>\n",
              "      <td>2019-06-21</td>\n",
              "      <td>5480000</td>\n",
              "      <td>경상남도 합천군</td>\n",
              "    </tr>\n",
              "    <tr>\n",
              "      <th>2</th>\n",
              "      <td>공중화장실</td>\n",
              "      <td>묘산면사무소</td>\n",
              "      <td>경상남도 합천군 묘산면 묘산로 173-1</td>\n",
              "      <td>NaN</td>\n",
              "      <td>N</td>\n",
              "      <td>1</td>\n",
              "      <td>1</td>\n",
              "      <td>1</td>\n",
              "      <td>1</td>\n",
              "      <td>0</td>\n",
              "      <td>0</td>\n",
              "      <td>2</td>\n",
              "      <td>1</td>\n",
              "      <td>0</td>\n",
              "      <td>합천군(묘산면)</td>\n",
              "      <td>NaN</td>\n",
              "      <td>(평일)09:00~18:00+(주말)09:00~18:00+(공휴일)09:00~18:00</td>\n",
              "      <td>2088</td>\n",
              "      <td>35.658440</td>\n",
              "      <td>128.113314</td>\n",
              "      <td>NaN</td>\n",
              "      <td>NaN</td>\n",
              "      <td>NaN</td>\n",
              "      <td>NaN</td>\n",
              "      <td>NaN</td>\n",
              "      <td>NaN</td>\n",
              "      <td>NaN</td>\n",
              "      <td>2019-06-21</td>\n",
              "      <td>5480000</td>\n",
              "      <td>경상남도 합천군</td>\n",
              "    </tr>\n",
              "    <tr>\n",
              "      <th>3</th>\n",
              "      <td>공중화장실</td>\n",
              "      <td>행신2동주민센터 화장실</td>\n",
              "      <td>경기도 고양시 덕양구 충경로 30 (행신동, 행신2동주민센터)</td>\n",
              "      <td>NaN</td>\n",
              "      <td>N</td>\n",
              "      <td>0</td>\n",
              "      <td>0</td>\n",
              "      <td>0</td>\n",
              "      <td>0</td>\n",
              "      <td>0</td>\n",
              "      <td>0</td>\n",
              "      <td>0</td>\n",
              "      <td>0</td>\n",
              "      <td>0</td>\n",
              "      <td>경기도 고양시 덕양구청</td>\n",
              "      <td>NaN</td>\n",
              "      <td>09:00~18:00</td>\n",
              "      <td>NaN</td>\n",
              "      <td>NaN</td>\n",
              "      <td>NaN</td>\n",
              "      <td>NaN</td>\n",
              "      <td>NaN</td>\n",
              "      <td>NaN</td>\n",
              "      <td>NaN</td>\n",
              "      <td>NaN</td>\n",
              "      <td>NaN</td>\n",
              "      <td>NaN</td>\n",
              "      <td>2019-01-02</td>\n",
              "      <td>3940000</td>\n",
              "      <td>경기도 고양시</td>\n",
              "    </tr>\n",
              "    <tr>\n",
              "      <th>4</th>\n",
              "      <td>공중화장실</td>\n",
              "      <td>원일주유소</td>\n",
              "      <td>경기도 고양시 일산동구 고양대로 1071 (식사동)</td>\n",
              "      <td>경기도 고양시 일산동구 식사동 596-13</td>\n",
              "      <td>N</td>\n",
              "      <td>1</td>\n",
              "      <td>2</td>\n",
              "      <td>0</td>\n",
              "      <td>0</td>\n",
              "      <td>0</td>\n",
              "      <td>0</td>\n",
              "      <td>1</td>\n",
              "      <td>0</td>\n",
              "      <td>0</td>\n",
              "      <td>경기도 고양시 일산동구청</td>\n",
              "      <td>NaN</td>\n",
              "      <td>09:00~18:00</td>\n",
              "      <td>NaN</td>\n",
              "      <td>37.669669</td>\n",
              "      <td>126.810136</td>\n",
              "      <td>NaN</td>\n",
              "      <td>NaN</td>\n",
              "      <td>NaN</td>\n",
              "      <td>NaN</td>\n",
              "      <td>NaN</td>\n",
              "      <td>NaN</td>\n",
              "      <td>NaN</td>\n",
              "      <td>2019-01-02</td>\n",
              "      <td>3940000</td>\n",
              "      <td>경기도 고양시</td>\n",
              "    </tr>\n",
              "  </tbody>\n",
              "</table>\n",
              "</div>"
            ],
            "text/plain": [
              "      구분          화장실명  ...   제공기관코드     제공기관명\n",
              "0  공중화장실         묘산주유소  ...  5480000  경상남도 합천군\n",
              "1  공중화장실          묘산분소  ...  5480000  경상남도 합천군\n",
              "2  공중화장실        묘산면사무소  ...  5480000  경상남도 합천군\n",
              "3  공중화장실  행신2동주민센터 화장실  ...  3940000   경기도 고양시\n",
              "4  공중화장실         원일주유소  ...  3940000   경기도 고양시\n",
              "\n",
              "[5 rows x 30 columns]"
            ]
          },
          "metadata": {},
          "execution_count": 5
        }
      ]
    },
    {
      "cell_type": "code",
      "metadata": {
        "colab": {
          "base_uri": "https://localhost:8080/",
          "height": 733
        },
        "id": "6lsLnhI69yeX",
        "outputId": "7f41bfcc-e4c4-45a8-ebfc-b967b457e770"
      },
      "source": [
        "df.tail(5)"
      ],
      "execution_count": 6,
      "outputs": [
        {
          "output_type": "execute_result",
          "data": {
            "text/html": [
              "<div>\n",
              "<style scoped>\n",
              "    .dataframe tbody tr th:only-of-type {\n",
              "        vertical-align: middle;\n",
              "    }\n",
              "\n",
              "    .dataframe tbody tr th {\n",
              "        vertical-align: top;\n",
              "    }\n",
              "\n",
              "    .dataframe thead th {\n",
              "        text-align: right;\n",
              "    }\n",
              "</style>\n",
              "<table border=\"1\" class=\"dataframe\">\n",
              "  <thead>\n",
              "    <tr style=\"text-align: right;\">\n",
              "      <th></th>\n",
              "      <th>구분</th>\n",
              "      <th>화장실명</th>\n",
              "      <th>소재지도로명주소</th>\n",
              "      <th>소재지지번주소</th>\n",
              "      <th>남녀공용화장실여부</th>\n",
              "      <th>남성용-대변기수</th>\n",
              "      <th>남성용-소변기수</th>\n",
              "      <th>남성용-장애인용대변기수</th>\n",
              "      <th>남성용-장애인용소변기수</th>\n",
              "      <th>남성용-어린이용대변기수</th>\n",
              "      <th>남성용-어린이용소변기수</th>\n",
              "      <th>여성용-대변기수</th>\n",
              "      <th>여성용-장애인용대변기수</th>\n",
              "      <th>여성용-어린이용대변기수</th>\n",
              "      <th>관리기관명</th>\n",
              "      <th>전화번호</th>\n",
              "      <th>개방시간</th>\n",
              "      <th>설치년도</th>\n",
              "      <th>위도</th>\n",
              "      <th>경도</th>\n",
              "      <th>화장실소유구분</th>\n",
              "      <th>화장실설치장소유형</th>\n",
              "      <th>오물처리방식</th>\n",
              "      <th>비상벨설치유형</th>\n",
              "      <th>화장실입구CCTV설치유무</th>\n",
              "      <th>기저귀교환대장소</th>\n",
              "      <th>리모델링년월</th>\n",
              "      <th>데이터기준일자</th>\n",
              "      <th>제공기관코드</th>\n",
              "      <th>제공기관명</th>\n",
              "    </tr>\n",
              "  </thead>\n",
              "  <tbody>\n",
              "    <tr>\n",
              "      <th>35669</th>\n",
              "      <td>공중화장실</td>\n",
              "      <td>삼희빌딩</td>\n",
              "      <td>대구광역시 중구 달구벌대로 2156</td>\n",
              "      <td>대구광역시 중구 봉산동 165-7</td>\n",
              "      <td>N</td>\n",
              "      <td>20</td>\n",
              "      <td>30</td>\n",
              "      <td>1</td>\n",
              "      <td>0</td>\n",
              "      <td>0</td>\n",
              "      <td>0</td>\n",
              "      <td>27</td>\n",
              "      <td>1</td>\n",
              "      <td>0</td>\n",
              "      <td>개인</td>\n",
              "      <td>NaN</td>\n",
              "      <td>06:00~21:30</td>\n",
              "      <td>NaN</td>\n",
              "      <td>35.863682</td>\n",
              "      <td>128.598878</td>\n",
              "      <td>NaN</td>\n",
              "      <td>NaN</td>\n",
              "      <td>NaN</td>\n",
              "      <td>NaN</td>\n",
              "      <td>NaN</td>\n",
              "      <td>NaN</td>\n",
              "      <td>NaN</td>\n",
              "      <td>2019-06-26</td>\n",
              "      <td>6270000</td>\n",
              "      <td>대구광역시</td>\n",
              "    </tr>\n",
              "    <tr>\n",
              "      <th>35670</th>\n",
              "      <td>공중화장실</td>\n",
              "      <td>상도빌딩</td>\n",
              "      <td>대구광역시 중구 태평로 204</td>\n",
              "      <td>대구광역시 중구 태평로1가 21-5</td>\n",
              "      <td>Y</td>\n",
              "      <td>11</td>\n",
              "      <td>5</td>\n",
              "      <td>0</td>\n",
              "      <td>0</td>\n",
              "      <td>0</td>\n",
              "      <td>0</td>\n",
              "      <td>0</td>\n",
              "      <td>0</td>\n",
              "      <td>0</td>\n",
              "      <td>개인</td>\n",
              "      <td>NaN</td>\n",
              "      <td>09:00~18:00</td>\n",
              "      <td>NaN</td>\n",
              "      <td>35.873799</td>\n",
              "      <td>128.599857</td>\n",
              "      <td>NaN</td>\n",
              "      <td>NaN</td>\n",
              "      <td>NaN</td>\n",
              "      <td>NaN</td>\n",
              "      <td>NaN</td>\n",
              "      <td>NaN</td>\n",
              "      <td>NaN</td>\n",
              "      <td>2019-06-26</td>\n",
              "      <td>6270000</td>\n",
              "      <td>대구광역시</td>\n",
              "    </tr>\n",
              "    <tr>\n",
              "      <th>35671</th>\n",
              "      <td>공중화장실</td>\n",
              "      <td>서남빌딩</td>\n",
              "      <td>대구광역시 중구 국채보상로 458</td>\n",
              "      <td>대구광역시 중구 대신동 115-5</td>\n",
              "      <td>N</td>\n",
              "      <td>0</td>\n",
              "      <td>1</td>\n",
              "      <td>1</td>\n",
              "      <td>0</td>\n",
              "      <td>0</td>\n",
              "      <td>0</td>\n",
              "      <td>0</td>\n",
              "      <td>1</td>\n",
              "      <td>0</td>\n",
              "      <td>개인</td>\n",
              "      <td>NaN</td>\n",
              "      <td>08:00~19:00/첫째,셋째 일요일 휴무</td>\n",
              "      <td>NaN</td>\n",
              "      <td>35.870269</td>\n",
              "      <td>128.580906</td>\n",
              "      <td>NaN</td>\n",
              "      <td>NaN</td>\n",
              "      <td>NaN</td>\n",
              "      <td>NaN</td>\n",
              "      <td>NaN</td>\n",
              "      <td>NaN</td>\n",
              "      <td>NaN</td>\n",
              "      <td>2019-06-26</td>\n",
              "      <td>6270000</td>\n",
              "      <td>대구광역시</td>\n",
              "    </tr>\n",
              "    <tr>\n",
              "      <th>35672</th>\n",
              "      <td>개방화장실</td>\n",
              "      <td>서문로119안전센터</td>\n",
              "      <td>대구광역시 중구 경상감영길 45</td>\n",
              "      <td>대구광역시 중구 서문로1가 1-6</td>\n",
              "      <td>Y</td>\n",
              "      <td>1</td>\n",
              "      <td>2</td>\n",
              "      <td>1</td>\n",
              "      <td>0</td>\n",
              "      <td>0</td>\n",
              "      <td>0</td>\n",
              "      <td>0</td>\n",
              "      <td>0</td>\n",
              "      <td>0</td>\n",
              "      <td>서문로119안전센터</td>\n",
              "      <td>NaN</td>\n",
              "      <td>24시간</td>\n",
              "      <td>NaN</td>\n",
              "      <td>35.871576</td>\n",
              "      <td>128.589985</td>\n",
              "      <td>NaN</td>\n",
              "      <td>NaN</td>\n",
              "      <td>NaN</td>\n",
              "      <td>NaN</td>\n",
              "      <td>NaN</td>\n",
              "      <td>NaN</td>\n",
              "      <td>NaN</td>\n",
              "      <td>2019-06-26</td>\n",
              "      <td>6270000</td>\n",
              "      <td>대구광역시</td>\n",
              "    </tr>\n",
              "    <tr>\n",
              "      <th>35673</th>\n",
              "      <td>개방화장실</td>\n",
              "      <td>서문시장 1지구</td>\n",
              "      <td>대구광역시 중구 큰장로28길 10</td>\n",
              "      <td>대구광역시 중구 대신동 115-379</td>\n",
              "      <td>N</td>\n",
              "      <td>3</td>\n",
              "      <td>4</td>\n",
              "      <td>0</td>\n",
              "      <td>0</td>\n",
              "      <td>0</td>\n",
              "      <td>0</td>\n",
              "      <td>6</td>\n",
              "      <td>0</td>\n",
              "      <td>0</td>\n",
              "      <td>서문시장1지구 1층상인회</td>\n",
              "      <td>NaN</td>\n",
              "      <td>09:00~18:30/휴무일 제외</td>\n",
              "      <td>NaN</td>\n",
              "      <td>35.869393</td>\n",
              "      <td>128.579824</td>\n",
              "      <td>NaN</td>\n",
              "      <td>NaN</td>\n",
              "      <td>NaN</td>\n",
              "      <td>NaN</td>\n",
              "      <td>NaN</td>\n",
              "      <td>NaN</td>\n",
              "      <td>NaN</td>\n",
              "      <td>2019-06-26</td>\n",
              "      <td>6270000</td>\n",
              "      <td>대구광역시</td>\n",
              "    </tr>\n",
              "  </tbody>\n",
              "</table>\n",
              "</div>"
            ],
            "text/plain": [
              "          구분        화장실명             소재지도로명주소  ...     데이터기준일자   제공기관코드  제공기관명\n",
              "35669  공중화장실        삼희빌딩  대구광역시 중구 달구벌대로 2156  ...  2019-06-26  6270000  대구광역시\n",
              "35670  공중화장실        상도빌딩     대구광역시 중구 태평로 204  ...  2019-06-26  6270000  대구광역시\n",
              "35671  공중화장실        서남빌딩   대구광역시 중구 국채보상로 458  ...  2019-06-26  6270000  대구광역시\n",
              "35672  개방화장실  서문로119안전센터    대구광역시 중구 경상감영길 45  ...  2019-06-26  6270000  대구광역시\n",
              "35673  개방화장실    서문시장 1지구   대구광역시 중구 큰장로28길 10  ...  2019-06-26  6270000  대구광역시\n",
              "\n",
              "[5 rows x 30 columns]"
            ]
          },
          "metadata": {},
          "execution_count": 6
        }
      ]
    },
    {
      "cell_type": "markdown",
      "metadata": {
        "id": "JIA8tyQeQmrk"
      },
      "source": [
        "## 데이터 결측치 확인"
      ]
    },
    {
      "cell_type": "code",
      "metadata": {
        "colab": {
          "base_uri": "https://localhost:8080/"
        },
        "id": "yyoN04XWQeQT",
        "outputId": "172338d8-7733-4e05-b939-46177c0188ab"
      },
      "source": [
        "df.isnull().sum()"
      ],
      "execution_count": 7,
      "outputs": [
        {
          "output_type": "execute_result",
          "data": {
            "text/plain": [
              "구분                   0\n",
              "화장실명                 0\n",
              "소재지도로명주소          7219\n",
              "소재지지번주소           7920\n",
              "남녀공용화장실여부            0\n",
              "남성용-대변기수             0\n",
              "남성용-소변기수             0\n",
              "남성용-장애인용대변기수         0\n",
              "남성용-장애인용소변기수         0\n",
              "남성용-어린이용대변기수         0\n",
              "남성용-어린이용소변기수         0\n",
              "여성용-대변기수             0\n",
              "여성용-장애인용대변기수         0\n",
              "여성용-어린이용대변기수         0\n",
              "관리기관명                0\n",
              "전화번호              8537\n",
              "개방시간                 0\n",
              "설치년도             21739\n",
              "위도                7534\n",
              "경도                7532\n",
              "화장실소유구분          35674\n",
              "화장실설치장소유형        35674\n",
              "오물처리방식           35674\n",
              "비상벨설치유형          35674\n",
              "화장실입구CCTV설치유무    35674\n",
              "기저귀교환대장소         35674\n",
              "리모델링년월           35674\n",
              "데이터기준일자              0\n",
              "제공기관코드               0\n",
              "제공기관명                0\n",
              "dtype: int64"
            ]
          },
          "metadata": {},
          "execution_count": 7
        }
      ]
    },
    {
      "cell_type": "markdown",
      "metadata": {
        "id": "4spJICfgq0Wo"
      },
      "source": [
        "## 필요한 데이터 컬럼의 결측치 채우고 수정"
      ]
    },
    {
      "cell_type": "code",
      "metadata": {
        "id": "UQAyOqpE9yiw"
      },
      "source": [
        "df['소재지도로명주소'] = df['소재지도로명주소'].fillna(df['소재지지번주소'])\n",
        "#도로명 주소를 통해 위도 경도를 구하기 위해 지번주소로 도로명주소의 결측치를 채웠습니다."
      ],
      "execution_count": 8,
      "outputs": []
    },
    {
      "cell_type": "code",
      "metadata": {
        "colab": {
          "base_uri": "https://localhost:8080/"
        },
        "id": "mP-LnVv89ypA",
        "outputId": "6b56424b-3a6e-4df0-e15b-0bb54cf76f6d"
      },
      "source": [
        "df['소재지도로명주소'].isnull().sum()\n",
        "#결측치 채워졌는지 확인"
      ],
      "execution_count": 9,
      "outputs": [
        {
          "output_type": "execute_result",
          "data": {
            "text/plain": [
              "0"
            ]
          },
          "metadata": {},
          "execution_count": 9
        }
      ]
    },
    {
      "cell_type": "markdown",
      "metadata": {
        "id": "X2btkgdazk_Y"
      },
      "source": [
        "## 남녀 공용 화장실 여부 확인\n"
      ]
    },
    {
      "cell_type": "code",
      "metadata": {
        "id": "e78_nsO1tE4C",
        "colab": {
          "base_uri": "https://localhost:8080/"
        },
        "outputId": "1add730c-d35d-478a-c576-05b3b69298dd"
      },
      "source": [
        "df['남녀공용화장실여부'].value_counts()"
      ],
      "execution_count": 14,
      "outputs": [
        {
          "output_type": "execute_result",
          "data": {
            "text/plain": [
              "N    30390\n",
              "Y     4997\n",
              "n      206\n",
              "y       81\n",
              "Name: 남녀공용화장실여부, dtype: int64"
            ]
          },
          "metadata": {},
          "execution_count": 14
        }
      ]
    },
    {
      "cell_type": "code",
      "metadata": {
        "id": "eNiwSrrvtE-3"
      },
      "source": [
        "df['남녀공용화장실여부'] = df['남녀공용화장실여부'].replace('n','N')\n",
        "df['남녀공용화장실여부'] = df['남녀공용화장실여부'].replace('y','Y')"
      ],
      "execution_count": 15,
      "outputs": []
    },
    {
      "cell_type": "code",
      "metadata": {
        "colab": {
          "base_uri": "https://localhost:8080/"
        },
        "id": "2w7S0WBjzdSp",
        "outputId": "a2b21217-92a5-463f-c418-7a256a2a250a"
      },
      "source": [
        "df['남녀공용화장실여부'].value_counts()"
      ],
      "execution_count": 16,
      "outputs": [
        {
          "output_type": "execute_result",
          "data": {
            "text/plain": [
              "N    30596\n",
              "Y     5078\n",
              "Name: 남녀공용화장실여부, dtype: int64"
            ]
          },
          "metadata": {},
          "execution_count": 16
        }
      ]
    },
    {
      "cell_type": "code",
      "metadata": {
        "id": "aTKD8bL7tFE-",
        "colab": {
          "base_uri": "https://localhost:8080/",
          "height": 281
        },
        "outputId": "055bb21f-164e-4c60-b1c8-7823d675fb67"
      },
      "source": [
        "df['남녀공용화장실여부'].value_counts().plot.bar(rot = 0)"
      ],
      "execution_count": 17,
      "outputs": [
        {
          "output_type": "execute_result",
          "data": {
            "text/plain": [
              "<matplotlib.axes._subplots.AxesSubplot at 0x7fad278d6a90>"
            ]
          },
          "metadata": {},
          "execution_count": 17
        },
        {
          "output_type": "display_data",
          "data": {
            "image/png": "[encoded data removed]",
            "text/plain": [
              "<Figure size 432x288 with 1 Axes>"
            ]
          },
          "metadata": {
            "needs_background": "light"
          }
        }
      ]
    },
    {
      "cell_type": "markdown",
      "metadata": {
        "id": "PuUDOr6D6onG"
      },
      "source": [
        "## 화장실 구분 확인"
      ]
    },
    {
      "cell_type": "code",
      "metadata": {
        "id": "ROylttdWPs4L",
        "colab": {
          "base_uri": "https://localhost:8080/"
        },
        "outputId": "a73c62d2-9137-48b1-b0fb-7bd18b0215e9"
      },
      "source": [
        "df['구분'].value_counts()"
      ],
      "execution_count": 18,
      "outputs": [
        {
          "output_type": "execute_result",
          "data": {
            "text/plain": [
              "공중화장실    25828\n",
              "개방화장실     7518\n",
              "간이화장실     1687\n",
              "이동화장실      641\n",
              "Name: 구분, dtype: int64"
            ]
          },
          "metadata": {},
          "execution_count": 18
        }
      ]
    },
    {
      "cell_type": "code",
      "metadata": {
        "colab": {
          "base_uri": "https://localhost:8080/",
          "height": 281
        },
        "id": "buso2BRU6n8E",
        "outputId": "2d2ac8f7-2110-4cd0-fbcd-137c5a29f7e9"
      },
      "source": [
        "df['구분'].value_counts().plot.bar( rot = 0)"
      ],
      "execution_count": 19,
      "outputs": [
        {
          "output_type": "execute_result",
          "data": {
            "text/plain": [
              "<matplotlib.axes._subplots.AxesSubplot at 0x7fad277ed290>"
            ]
          },
          "metadata": {},
          "execution_count": 19
        },
        {
          "output_type": "display_data",
          "data": {
            "image/png": "[encoded data removed]",
            "text/plain": [
              "<Figure size 432x288 with 1 Axes>"
            ]
          },
          "metadata": {
            "needs_background": "light"
          }
        }
      ]
    },
    {
      "cell_type": "markdown",
      "metadata": {
        "id": "MrVr7wst9iQK"
      },
      "source": [
        "## 남자 화장실 소변, 대변기수 확인\n"
      ]
    },
    {
      "cell_type": "code",
      "metadata": {
        "id": "6CyfdhXq9oSk"
      },
      "source": [
        "df_man = df[['남성용-대변기수',\t'남성용-소변기수',\t'남성용-장애인용대변기수',\t'남성용-장애인용소변기수',\t'남성용-어린이용대변기수',\t'남성용-어린이용소변기수']]"
      ],
      "execution_count": 20,
      "outputs": []
    },
    {
      "cell_type": "code",
      "metadata": {
        "colab": {
          "base_uri": "https://localhost:8080/"
        },
        "id": "H_J-6Oiw-hdc",
        "outputId": "91acf9bf-f52b-406f-a09a-013bb4bc6fbe"
      },
      "source": [
        "df_man['남성용-어린이용대변기수'] = df_man['남성용-어린이용대변기수'].apply(pd.to_numeric, errors = 'coerce')\n",
        "df_man['남성용-어린이용소변기수'] = df_man['남성용-어린이용소변기수'].apply(pd.to_numeric, errors = 'coerce')"
      ],
      "execution_count": 21,
      "outputs": [
        {
          "output_type": "stream",
          "name": "stderr",
          "text": [
            "/usr/local/lib/python3.7/dist-packages/ipykernel_launcher.py:1: SettingWithCopyWarning: \n",
            "A value is trying to be set on a copy of a slice from a DataFrame.\n",
            "Try using .loc[row_indexer,col_indexer] = value instead\n",
            "\n",
            "See the caveats in the documentation: https://pandas.pydata.org/pandas-docs/stable/user_guide/indexing.html#returning-a-view-versus-a-copy\n",
            "  \"\"\"Entry point for launching an IPython kernel.\n",
            "/usr/local/lib/python3.7/dist-packages/ipykernel_launcher.py:2: SettingWithCopyWarning: \n",
            "A value is trying to be set on a copy of a slice from a DataFrame.\n",
            "Try using .loc[row_indexer,col_indexer] = value instead\n",
            "\n",
            "See the caveats in the documentation: https://pandas.pydata.org/pandas-docs/stable/user_guide/indexing.html#returning-a-view-versus-a-copy\n",
            "  \n"
          ]
        }
      ]
    },
    {
      "cell_type": "code",
      "metadata": {
        "colab": {
          "base_uri": "https://localhost:8080/"
        },
        "id": "bx5_B064Fr80",
        "outputId": "278a12be-143f-468b-9e63-219508f38d1b"
      },
      "source": [
        "df_man.sum().astype(int)"
      ],
      "execution_count": 22,
      "outputs": [
        {
          "output_type": "execute_result",
          "data": {
            "text/plain": [
              "남성용-대변기수        150745\n",
              "남성용-소변기수        199810\n",
              "남성용-장애인용대변기수     17235\n",
              "남성용-장애인용소변기수      9203\n",
              "남성용-어린이용대변기수      2736\n",
              "남성용-어린이용소변기수      2348\n",
              "dtype: int64"
            ]
          },
          "metadata": {},
          "execution_count": 22
        }
      ]
    },
    {
      "cell_type": "code",
      "metadata": {
        "colab": {
          "base_uri": "https://localhost:8080/",
          "height": 281
        },
        "id": "V_b-D-Q0-hlw",
        "outputId": "5542bf2e-a395-492d-bdfe-2fc6db287ecc"
      },
      "source": [
        "df_man.sum().astype(int).plot.bar(figsize = (15,4), rot = 0)"
      ],
      "execution_count": 23,
      "outputs": [
        {
          "output_type": "execute_result",
          "data": {
            "text/plain": [
              "<matplotlib.axes._subplots.AxesSubplot at 0x7fad277cb090>"
            ]
          },
          "metadata": {},
          "execution_count": 23
        },
        {
          "output_type": "display_data",
          "data": {
            "image/png": "[encoded data removed]",
            "text/plain": [
              "<Figure size 1080x288 with 1 Axes>"
            ]
          },
          "metadata": {
            "needs_background": "light"
          }
        }
      ]
    },
    {
      "cell_type": "markdown",
      "metadata": {
        "id": "UsjEMoAK-d9Y"
      },
      "source": [
        "## 여자 화장실 대변기수 확인"
      ]
    },
    {
      "cell_type": "code",
      "metadata": {
        "id": "4hXY8kcg9psF"
      },
      "source": [
        "df_woman = df[['여성용-대변기수',\t'여성용-장애인용대변기수',\t'여성용-어린이용대변기수']]"
      ],
      "execution_count": 24,
      "outputs": []
    },
    {
      "cell_type": "code",
      "metadata": {
        "colab": {
          "base_uri": "https://localhost:8080/"
        },
        "id": "z6HJSOZb9pit",
        "outputId": "7691099b-48b8-4a0d-88a6-5d7ece4386be"
      },
      "source": [
        "df_woman.sum()"
      ],
      "execution_count": 25,
      "outputs": [
        {
          "output_type": "execute_result",
          "data": {
            "text/plain": [
              "여성용-대변기수        219860\n",
              "여성용-장애인용대변기수     15560\n",
              "여성용-어린이용대변기수      3947\n",
              "dtype: int64"
            ]
          },
          "metadata": {},
          "execution_count": 25
        }
      ]
    },
    {
      "cell_type": "code",
      "metadata": {
        "colab": {
          "base_uri": "https://localhost:8080/",
          "height": 281
        },
        "id": "BH8G3oM19pZ2",
        "outputId": "398652ee-f744-4839-ed86-bbd29d5828b7"
      },
      "source": [
        "df_woman.sum().plot.bar(figsize = (15,4), rot = 0)"
      ],
      "execution_count": 26,
      "outputs": [
        {
          "output_type": "execute_result",
          "data": {
            "text/plain": [
              "<matplotlib.axes._subplots.AxesSubplot at 0x7fad271a3290>"
            ]
          },
          "metadata": {},
          "execution_count": 26
        },
        {
          "output_type": "display_data",
          "data": {
            "image/png": "[encoded data removed]",
            "text/plain": [
              "<Figure size 1080x288 with 1 Axes>"
            ]
          },
          "metadata": {
            "needs_background": "light"
          }
        }
      ]
    },
    {
      "cell_type": "code",
      "metadata": {
        "id": "aLbD6i3l9pOy"
      },
      "source": [
        ""
      ],
      "execution_count": 26,
      "outputs": []
    },
    {
      "cell_type": "code",
      "metadata": {
        "id": "AtD2r5om9pBM"
      },
      "source": [
        ""
      ],
      "execution_count": 26,
      "outputs": []
    },
    {
      "cell_type": "code",
      "metadata": {
        "id": "Slvnk-x46Skx"
      },
      "source": [
        "# df['개방시간'].value_counts()"
      ],
      "execution_count": 27,
      "outputs": []
    },
    {
      "cell_type": "code",
      "metadata": {
        "id": "Ft3euBaGtEnx"
      },
      "source": [
        "# df['개방시간'] = df['개방시간'].replace(\"-\",\"제공 되지 않음\").replace(\":~:\",\"제공 되지 않음\").replace(\"데이터없음\",\"제공 되지 않음\")\n",
        "# df['개방시간'] = df['개방시간'].replace(\"24\",\"24시간\")\n",
        "# df['개방시간'] = df['개방시간'].replace(\"00:00~24:00\",\"24시간\")\n",
        "# df['개방시간'] = df['개방시간'].replace(\"(09:00~18:00)\",\"09:00~18:00\")\n",
        "# df['개방시간'] = df['개방시간'].replace(\"상시\",\"24시간\")\n",
        "# df['개방시간'] = df['개방시간'].replace(\"(평일)09:00~18:00+(주말)09:00~18:00+(공휴일)09:00~18:00\",\"09:00~18:00\")"
      ],
      "execution_count": 28,
      "outputs": []
    },
    {
      "cell_type": "code",
      "metadata": {
        "id": "xDQLKHnXtEwJ"
      },
      "source": [
        "# pd.set_option('display.max_row', 590)\n",
        "# df['개방시간'].value_counts()"
      ],
      "execution_count": 29,
      "outputs": []
    },
    {
      "cell_type": "code",
      "metadata": {
        "id": "ETbPUIry6oBs"
      },
      "source": [
        ""
      ],
      "execution_count": 29,
      "outputs": []
    },
    {
      "cell_type": "markdown",
      "metadata": {
        "id": "A609DmK_YKQi"
      },
      "source": [
        "## 사용할 컬럼으로 데이터 프레임 재구성"
      ]
    },
    {
      "cell_type": "code",
      "metadata": {
        "id": "EQFTz6sgPsvu"
      },
      "source": [
        "columns = ['구분' , '화장실명' , '남녀공용화장실여부' , '개방시간' , '관리기관명' , '위도' , '경도']"
      ],
      "execution_count": 30,
      "outputs": []
    },
    {
      "cell_type": "code",
      "metadata": {
        "id": "oIVafXLmP98W"
      },
      "source": [
        "# df = df[columns].copy()"
      ],
      "execution_count": 31,
      "outputs": []
    },
    {
      "cell_type": "code",
      "metadata": {
        "id": "li2O7bdVPs0e"
      },
      "source": [
        "# df"
      ],
      "execution_count": 32,
      "outputs": []
    },
    {
      "cell_type": "code",
      "metadata": {
        "id": "qWt-3fWmPs7U"
      },
      "source": [
        ""
      ],
      "execution_count": 32,
      "outputs": []
    },
    {
      "cell_type": "code",
      "metadata": {
        "id": "CIKO9MhyPs-a"
      },
      "source": [
        ""
      ],
      "execution_count": 32,
      "outputs": []
    },
    {
      "cell_type": "code",
      "metadata": {
        "id": "Zi-Apv-7PtBT"
      },
      "source": [
        ""
      ],
      "execution_count": 32,
      "outputs": []
    },
    {
      "cell_type": "code",
      "metadata": {
        "id": "qfPLMdXu9yuD"
      },
      "source": [
        ""
      ],
      "execution_count": 32,
      "outputs": []
    },
    {
      "cell_type": "code",
      "metadata": {
        "id": "f4UQj2ukkSV_"
      },
      "source": [
        ""
      ],
      "execution_count": 32,
      "outputs": []
    },
    {
      "cell_type": "code",
      "metadata": {
        "id": "4TDvVoQckSdj"
      },
      "source": [
        ""
      ],
      "execution_count": 32,
      "outputs": []
    },
    {
      "cell_type": "code",
      "metadata": {
        "id": "-13aDtg2kSjj"
      },
      "source": [
        ""
      ],
      "execution_count": 32,
      "outputs": []
    },
    {
      "cell_type": "code",
      "metadata": {
        "id": "JYqfSVTNryuR"
      },
      "source": [
        ""
      ],
      "execution_count": 32,
      "outputs": []
    },
    {
      "cell_type": "code",
      "metadata": {
        "id": "mLKT0yLp3eP_"
      },
      "source": [
        ""
      ],
      "execution_count": 32,
      "outputs": []
    },
    {
      "cell_type": "code",
      "metadata": {
        "id": "CYdwztFF6RMY"
      },
      "source": [
        ""
      ],
      "execution_count": 32,
      "outputs": []
    },
    {
      "cell_type": "code",
      "metadata": {
        "id": "Fldeb9Ga9lsO"
      },
      "source": [
        ""
      ],
      "execution_count": 32,
      "outputs": []
    }
  ]
}